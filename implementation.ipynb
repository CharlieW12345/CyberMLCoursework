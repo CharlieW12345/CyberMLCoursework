{
 "cells": [
  {
   "cell_type": "markdown",
   "id": "a3132b62",
   "metadata": {},
   "source": [
    "# Binary"
   ]
  },
  {
   "cell_type": "code",
   "execution_count": 177,
   "id": "a8869cea",
   "metadata": {},
   "outputs": [],
   "source": [
    "import pandas as pd\n",
    "import numpy as np\n",
    "trainData = pd.read_csv(\"TrainingDataBinary.csv\") # Dataset is loaded in from CSV files\n",
    "testData = pd.read_csv(\"TestingDataBinary.csv\")\n",
    "\n",
    "#Creating DataFrames for training and testing\n",
    "train_Data = pd.DataFrame(data = trainData)\n",
    "test_Data = pd.DataFrame(data = testData)\n"
   ]
  },
  {
   "cell_type": "code",
   "execution_count": 178,
   "id": "6d540fd4",
   "metadata": {},
   "outputs": [
    {
     "name": "stdout",
     "output_type": "stream",
     "text": [
      "<class 'pandas.core.frame.DataFrame'>\n",
      "RangeIndex: 5999 entries, 0 to 5998\n",
      "Columns: 129 entries, 70.399324 to 0.15\n",
      "dtypes: float64(113), int64(16)\n",
      "memory usage: 5.9 MB\n",
      "<class 'pandas.core.frame.DataFrame'>\n",
      "RangeIndex: 99 entries, 0 to 98\n",
      "Columns: 128 entries, 12.118057 to 0.51\n",
      "dtypes: float64(112), int64(16)\n",
      "memory usage: 99.1 KB\n"
     ]
    }
   ],
   "source": [
    "train_Data.info()\n",
    "test_Data.info()"
   ]
  },
  {
   "cell_type": "code",
   "execution_count": 179,
   "id": "cd0b9e8b",
   "metadata": {
    "scrolled": true
   },
   "outputs": [],
   "source": [
    "from sklearn.model_selection import train_test_split\n",
    "X = train_Data.iloc[:, :-1]  # Features (all columns except the last one)\n",
    "y = train_Data.iloc[:, -1]\n",
    "\n",
    "\n",
    "X_train, X_test, y_train, y_test = train_test_split(X, y, test_size=0.2, random_state=42)\n"
   ]
  },
  {
   "cell_type": "code",
   "execution_count": 180,
   "id": "bcf7f687",
   "metadata": {},
   "outputs": [],
   "source": [
    "#F1 score\n",
    "#Just did manually so I could keep to the formula instead of macro or micro\n",
    "def f1score(prediction):\n",
    "    TP = 0 \n",
    "    FP = 0\n",
    "    TN = 0\n",
    "    FN = 0\n",
    "\n",
    "    for true, pred in zip(y_test, prediction): \n",
    "        if(true == 0 and pred == 0):\n",
    "            TP = TP + 1\n",
    "        if(true == 0 and pred == 1):\n",
    "            FN = FN + 1   \n",
    "        if(true == 1 and pred == 0):\n",
    "            FP = FP + 1\n",
    "        if(true == 1 and pred == 1):\n",
    "            TN = TN + 1 \n",
    "\n",
    "    print(\"TruePositive: \" + str(TP) + \" FalseNegative: \" + str(FN) + \" FalsePositive: \" + str(FP) + \" TrueNegative: \" + str(TN) )\n",
    "\n",
    "\n",
    "    precision = TP / (TP + FP)\n",
    "    recall = TP / (TP + FN)\n",
    "    print(\"precision : \" + str(precision))\n",
    "    print(\"recall: \" + str(recall))\n",
    "    f1 = 2 * ((precision * recall) / (precision + recall))\n",
    "    print(\"TruePositive: \" + str(TP) + \" FalseNegative: \" + str(FN) + \" FalsePositive: \" + str(FP) + \" TrueNegative: \" + str(TN) )\n",
    "    print(\"f1-score: \" + str(f1))"
   ]
  },
  {
   "cell_type": "code",
   "execution_count": 181,
   "id": "bdcb1549",
   "metadata": {},
   "outputs": [
    {
     "name": "stdout",
     "output_type": "stream",
     "text": [
      "0.8558333333333333\n",
      "0.9289940828402367\n",
      "TruePositive: 556 FalseNegative: 36 FalsePositive: 137 TrueNegative: 471\n",
      "precision : 0.8023088023088023\n",
      "recall: 0.9391891891891891\n",
      "TruePositive: 556 FalseNegative: 36 FalsePositive: 137 TrueNegative: 471\n",
      "f1-score: 0.8653696498054475\n"
     ]
    },
    {
     "name": "stderr",
     "output_type": "stream",
     "text": [
      "C:\\Users\\willi\\miniconda3\\lib\\site-packages\\sklearn\\linear_model\\_logistic.py:444: ConvergenceWarning: lbfgs failed to converge (status=1):\n",
      "STOP: TOTAL NO. of ITERATIONS REACHED LIMIT.\n",
      "\n",
      "Increase the number of iterations (max_iter) or scale the data as shown in:\n",
      "    https://scikit-learn.org/stable/modules/preprocessing.html\n",
      "Please also refer to the documentation for alternative solver options:\n",
      "    https://scikit-learn.org/stable/modules/linear_model.html#logistic-regression\n",
      "  n_iter_i = _check_optimize_result(\n"
     ]
    }
   ],
   "source": [
    "#Classification problem\n",
    "#Logistic regression\n",
    "from sklearn.metrics import accuracy_score, precision_score\n",
    "from sklearn.linear_model import LogisticRegression\n",
    "clf = LogisticRegression()\n",
    "clf.fit(X_train,y_train)\n",
    "prediction = clf.predict(X_test)\n",
    "print(accuracy_score(y_test, prediction))\n",
    "print(precision_score(y_test, prediction))    \n",
    "f1score(prediction)"
   ]
  },
  {
   "cell_type": "code",
   "execution_count": 183,
   "id": "f22144a7",
   "metadata": {},
   "outputs": [
    {
     "name": "stdout",
     "output_type": "stream",
     "text": [
      "0.8766666666666667\n",
      "0.9291044776119403\n",
      "TruePositive: 554 FalseNegative: 38 FalsePositive: 110 TrueNegative: 498\n",
      "precision : 0.8343373493975904\n",
      "recall: 0.9358108108108109\n",
      "TruePositive: 554 FalseNegative: 38 FalsePositive: 110 TrueNegative: 498\n",
      "f1-score: 0.8821656050955415\n"
     ]
    }
   ],
   "source": [
    "#Linear discriminant analysis\n",
    "from sklearn.discriminant_analysis import LinearDiscriminantAnalysis\n",
    "clf = LinearDiscriminantAnalysis()\n",
    "clf.fit(X_train,y_train)\n",
    "prediction = clf.predict(X_test)\n",
    "print(accuracy_score(y_test, prediction))\n",
    "print(precision_score(y_test, prediction)) \n",
    "f1score(prediction)"
   ]
  },
  {
   "cell_type": "code",
   "execution_count": 205,
   "id": "dad44d1e",
   "metadata": {
    "scrolled": false
   },
   "outputs": [
    {
     "name": "stdout",
     "output_type": "stream",
     "text": [
      "0.5216666666666666\n",
      "0.84\n",
      "TruePositive: 584 FalseNegative: 8 FalsePositive: 566 TrueNegative: 42\n",
      "precision : 0.5078260869565218\n",
      "recall: 0.9864864864864865\n",
      "TruePositive: 584 FalseNegative: 8 FalsePositive: 566 TrueNegative: 42\n",
      "f1-score: 0.6704936854190585\n"
     ]
    }
   ],
   "source": [
    "#Gaussian NB\n",
    "from sklearn.naive_bayes import GaussianNB \n",
    "clf = GaussianNB()\n",
    "clf.fit(X_train,y_train)\n",
    "prediction = clf.predict(X_test)\n",
    "print(accuracy_score(y_test, prediction))\n",
    "print(precision_score(y_test, prediction))   \n",
    "f1score(prediction)"
   ]
  },
  {
   "cell_type": "code",
   "execution_count": 185,
   "id": "70137d75",
   "metadata": {
    "scrolled": false
   },
   "outputs": [
    {
     "name": "stdout",
     "output_type": "stream",
     "text": [
      "0.8708333333333333\n",
      "0.9415204678362573\n",
      "TruePositive: 562 FalseNegative: 30 FalsePositive: 125 TrueNegative: 483\n",
      "precision : 0.8180494905385735\n",
      "recall: 0.9493243243243243\n",
      "TruePositive: 562 FalseNegative: 30 FalsePositive: 125 TrueNegative: 483\n",
      "f1-score: 0.8788115715402659\n"
     ]
    }
   ],
   "source": [
    "from sklearn.svm import SVC\n",
    "clf = SVC(kernel='linear',C=1.9, gamma='auto')\n",
    "clf.fit(X_train,y_train)\n",
    "prediction = clf.predict(X_test)\n",
    "print(accuracy_score(y_test, prediction))\n",
    "print(precision_score(y_test, prediction))        \n",
    "f1score(prediction)"
   ]
  },
  {
   "cell_type": "code",
   "execution_count": 186,
   "id": "01caf0c5",
   "metadata": {},
   "outputs": [
    {
     "name": "stdout",
     "output_type": "stream",
     "text": [
      "0.7041666666666667\n",
      "0.7744034707158352\n",
      "TruePositive: 488 FalseNegative: 104 FalsePositive: 251 TrueNegative: 357\n",
      "precision : 0.6603518267929634\n",
      "recall: 0.8243243243243243\n",
      "TruePositive: 488 FalseNegative: 104 FalsePositive: 251 TrueNegative: 357\n",
      "f1-score: 0.7332832456799399\n"
     ]
    }
   ],
   "source": [
    "# MLP - perhaps this could be fine-tuned but wouldn't be worth it\n",
    "from sklearn.neural_network import MLPClassifier\n",
    "clf = MLPClassifier()\n",
    "clf.fit(X_train,y_train)\n",
    "prediction = clf.predict(X_test)\n",
    "print(accuracy_score(y_test, prediction))\n",
    "print(precision_score(y_test, prediction))    \n",
    "f1score(prediction)"
   ]
  },
  {
   "cell_type": "code",
   "execution_count": 187,
   "id": "8a1f4bb5",
   "metadata": {},
   "outputs": [
    {
     "name": "stdout",
     "output_type": "stream",
     "text": [
      "0.9591666666666666\n",
      "0.9589490968801314\n",
      "TruePositive: 567 FalseNegative: 25 FalsePositive: 24 TrueNegative: 584\n",
      "precision : 0.9593908629441624\n",
      "recall: 0.9577702702702703\n",
      "TruePositive: 567 FalseNegative: 25 FalsePositive: 24 TrueNegative: 584\n",
      "f1-score: 0.9585798816568047\n"
     ]
    }
   ],
   "source": [
    "#Decision Tree\n",
    "from sklearn.tree import DecisionTreeClassifier\n",
    "clf = DecisionTreeClassifier()\n",
    "clf.fit(X_train,y_train)\n",
    "prediction = clf.predict(X_test)\n",
    "print(accuracy_score(y_test, prediction))\n",
    "print(precision_score(y_test, prediction))  \n",
    "f1score(prediction)"
   ]
  },
  {
   "cell_type": "code",
   "execution_count": 232,
   "id": "999a1bc7",
   "metadata": {},
   "outputs": [
    {
     "name": "stdout",
     "output_type": "stream",
     "text": [
      "0.9825\n",
      "0.9696\n",
      "TruePositive: 573 FalseNegative: 19 FalsePositive: 2 TrueNegative: 606\n",
      "precision : 0.9965217391304347\n",
      "recall: 0.9679054054054054\n",
      "TruePositive: 573 FalseNegative: 19 FalsePositive: 2 TrueNegative: 606\n",
      "f1-score: 0.9820051413881749\n"
     ]
    }
   ],
   "source": [
    "#Random Forest\n",
    "from sklearn.ensemble import RandomForestClassifier\n",
    "clf = RandomForestClassifier(n_estimators=150) # 150 allows for a bit more speed aswell\n",
    "\n",
    "clf.fit(X_train,y_train)\n",
    "\n",
    "prediction = clf.predict(X_test)\n",
    "# Class skewing\n",
    "pred_p = clf.predict_proba(X_test)[:,1]\n",
    "threshold = 0.4\n",
    "for i in range(len(pred_p)):\n",
    "    if pred_p[i] >= threshold:\n",
    "        prediction[i] = 1\n",
    "    else:\n",
    "        prediction[i] = 0\n",
    "\n",
    "print(accuracy_score(y_test, prediction))\n",
    "print(precision_score(y_test, prediction))    \n",
    "f1score(prediction)"
   ]
  },
  {
   "cell_type": "code",
   "execution_count": 220,
   "id": "15779cdf",
   "metadata": {},
   "outputs": [
    {
     "name": "stdout",
     "output_type": "stream",
     "text": [
      "[1 1 1 1 1 1 1 1 1 1 1 1 1 1 1 1 1 1 1 1 1 1 1 1 1 1 1 1 1 1 1 1 1 1 1 1 1\n",
      " 1 1 1 1 1 1 1 1 1 1 1 1 0 0 0 0 0 0 0 0 0 0 0 0 0 0 0 0 0 0 1 1 1 1 1 1 1\n",
      " 0 0 0 0 0 0 0 0 0 0 0 0 0 0 0 0 0 0 0 0 0 0 0 0 0]\n",
      "[1 1 1 1 1 1 1 1 1 1 1 1 1 1 1 1 1 1 1 1 1 1 1 1 1 1 1 1 1 1 1 1 1 1 1 1 1\n",
      " 1 1 1 1 1 1 1 1 1 1 1 1 0 0 0 0 0 0 0 0 0 0 0 0 0 0 0 0 0 0 1 1 1 1 1 1 1\n",
      " 1 0 0 0 0 0 0 0 0 0 0 0 0 0 0 0 0 0 0 0 1 0 0 0 0]\n"
     ]
    },
    {
     "name": "stderr",
     "output_type": "stream",
     "text": [
      "C:\\Users\\willi\\miniconda3\\lib\\site-packages\\sklearn\\base.py:493: FutureWarning: The feature names should match those that were passed during fit. Starting version 1.2, an error will be raised.\n",
      "Feature names unseen at fit time:\n",
      "- -107.847846\n",
      "- -107.915958\n",
      "- -109.664122\n",
      "- -109.690249\n",
      "- -113.49721\n",
      "- ...\n",
      "Feature names seen at fit time, yet now missing:\n",
      "- -100.86922\n",
      "- -102.060972\n",
      "- -119.550481\n",
      "- -119.753909\n",
      "- -120.341499\n",
      "- ...\n",
      "\n",
      "  warnings.warn(message, FutureWarning)\n",
      "C:\\Users\\willi\\miniconda3\\lib\\site-packages\\sklearn\\base.py:493: FutureWarning: The feature names should match those that were passed during fit. Starting version 1.2, an error will be raised.\n",
      "Feature names unseen at fit time:\n",
      "- -107.847846\n",
      "- -107.915958\n",
      "- -109.664122\n",
      "- -109.690249\n",
      "- -113.49721\n",
      "- ...\n",
      "Feature names seen at fit time, yet now missing:\n",
      "- -100.86922\n",
      "- -102.060972\n",
      "- -119.550481\n",
      "- -119.753909\n",
      "- -120.341499\n",
      "- ...\n",
      "\n",
      "  warnings.warn(message, FutureWarning)\n"
     ]
    }
   ],
   "source": [
    "#Producing the output file\n",
    "prediction = clf.predict(test_Data)\n",
    "print(prediction)\n",
    "pred_p = clf.predict_proba(test_Data)[:,1]\n",
    "threshold = 0.4\n",
    "for i in range(len(pred_p)):\n",
    "    if pred_p[i] >= threshold:\n",
    "        prediction[i] = 1\n",
    "    else:\n",
    "        prediction[i] = 0\n",
    "print(prediction)\n",
    "# Combination of without and with class skew"
   ]
  },
  {
   "cell_type": "code",
   "execution_count": 230,
   "id": "bcea3939",
   "metadata": {},
   "outputs": [],
   "source": [
    "testing_data = np.genfromtxt(\"TestingDataBinary.csv\", delimiter=',')\n",
    "test_Data = testing_data[:,:128]\n",
    "with open(\"TestingResultsBinary.csv\",\"w\") as f:\n",
    "    i = 0\n",
    "    temp = \"\"\n",
    "    for result in prediction:\n",
    "        p_list = (test_Data[i]).tolist()\n",
    "        p_list.append(int(result))\n",
    "        string = \"\\n\"\n",
    "        string = str(p_list) + string\n",
    "        string = string.replace(\"]\", \"\")\n",
    "        string = string.replace(\"[\",\"\")\n",
    "        f.write(string)\n",
    "        i = i + 1"
   ]
  },
  {
   "cell_type": "markdown",
   "id": "deffdcb0",
   "metadata": {},
   "source": [
    "# Multi-class"
   ]
  },
  {
   "cell_type": "code",
   "execution_count": 163,
   "id": "6da85669",
   "metadata": {},
   "outputs": [],
   "source": [
    "trainData = pd.read_csv(\"TrainingDataMulti.csv\")\n",
    "testData = pd.read_csv(\"TestingDataMulti.csv\")\n",
    "\n",
    "#Creating DataFrames for training and testing\n",
    "train_Data = pd.DataFrame(data = trainData)\n",
    "test_Data = pd.DataFrame(data = testData)\n"
   ]
  },
  {
   "cell_type": "code",
   "execution_count": 164,
   "id": "bf48cd8d",
   "metadata": {},
   "outputs": [
    {
     "name": "stdout",
     "output_type": "stream",
     "text": [
      "<class 'pandas.core.frame.DataFrame'>\n",
      "RangeIndex: 5999 entries, 0 to 5998\n",
      "Columns: 129 entries, 70.399324 to 0.15\n",
      "dtypes: float64(113), int64(16)\n",
      "memory usage: 5.9 MB\n",
      "<class 'pandas.core.frame.DataFrame'>\n",
      "RangeIndex: 99 entries, 0 to 98\n",
      "Columns: 128 entries, -100.141563 to 0.35\n",
      "dtypes: float64(104), int64(24)\n",
      "memory usage: 99.1 KB\n"
     ]
    }
   ],
   "source": [
    "train_Data.info()\n",
    "test_Data.info()"
   ]
  },
  {
   "cell_type": "code",
   "execution_count": 165,
   "id": "d66436b1",
   "metadata": {},
   "outputs": [],
   "source": [
    "X = train_Data.iloc[:, :-1]  # Features (all columns except the last one)\n",
    "y = train_Data.iloc[:, -1]\n",
    "\n",
    "\n",
    "X_train, X_test, y_train, y_test = train_test_split(X, y, test_size=0.2, random_state=42)"
   ]
  },
  {
   "cell_type": "code",
   "execution_count": 166,
   "id": "7385ba38",
   "metadata": {},
   "outputs": [
    {
     "name": "stdout",
     "output_type": "stream",
     "text": [
      "0.7\n",
      "0.6716764193855532\n",
      "TruePositive: 591 FalseNegative: 0 FalsePositive: 100 TrueNegative: 117\n",
      "precision : 0.8552821997105644\n",
      "recall: 1.0\n",
      "TruePositive: 591 FalseNegative: 0 FalsePositive: 100 TrueNegative: 117\n",
      "f1-score: 0.921996879875195\n"
     ]
    },
    {
     "name": "stderr",
     "output_type": "stream",
     "text": [
      "C:\\Users\\willi\\miniconda3\\lib\\site-packages\\sklearn\\linear_model\\_logistic.py:444: ConvergenceWarning: lbfgs failed to converge (status=1):\n",
      "STOP: TOTAL NO. of ITERATIONS REACHED LIMIT.\n",
      "\n",
      "Increase the number of iterations (max_iter) or scale the data as shown in:\n",
      "    https://scikit-learn.org/stable/modules/preprocessing.html\n",
      "Please also refer to the documentation for alternative solver options:\n",
      "    https://scikit-learn.org/stable/modules/linear_model.html#logistic-regression\n",
      "  n_iter_i = _check_optimize_result(\n"
     ]
    }
   ],
   "source": [
    "clf = LogisticRegression()\n",
    "clf.fit(X_train,y_train)\n",
    "prediction = clf.predict(X_test)\n",
    "print(accuracy_score(y_test, prediction))\n",
    "print(precision_score(y_test, prediction, average='macro'))    \n",
    "f1score(prediction)"
   ]
  },
  {
   "cell_type": "code",
   "execution_count": 168,
   "id": "d4fdbb87",
   "metadata": {},
   "outputs": [
    {
     "name": "stdout",
     "output_type": "stream",
     "text": [
      "0.7033333333333334\n",
      "0.6558584810207017\n",
      "TruePositive: 555 FalseNegative: 18 FalsePositive: 65 TrueNegative: 130\n",
      "precision : 0.8951612903225806\n",
      "recall: 0.9685863874345549\n",
      "TruePositive: 555 FalseNegative: 18 FalsePositive: 65 TrueNegative: 130\n",
      "f1-score: 0.9304274937133278\n"
     ]
    }
   ],
   "source": [
    "clf = LinearDiscriminantAnalysis()\n",
    "clf.fit(X_train,y_train)\n",
    "prediction = clf.predict(X_test)\n",
    "print(accuracy_score(y_test, prediction))\n",
    "print(precision_score(y_test, prediction, average='macro')) \n",
    "f1score(prediction)"
   ]
  },
  {
   "cell_type": "code",
   "execution_count": 198,
   "id": "2b2df317",
   "metadata": {},
   "outputs": [
    {
     "name": "stdout",
     "output_type": "stream",
     "text": [
      "0.5025\n",
      "0.7489486963835156\n",
      "TruePositive: 592 FalseNegative: 0 FalsePositive: 597 TrueNegative: 11\n",
      "precision : 0.4978973927670311\n",
      "recall: 1.0\n",
      "TruePositive: 592 FalseNegative: 0 FalsePositive: 597 TrueNegative: 11\n",
      "f1-score: 0.6647950589556428\n"
     ]
    },
    {
     "name": "stderr",
     "output_type": "stream",
     "text": [
      "C:\\Users\\willi\\miniconda3\\lib\\site-packages\\sklearn\\base.py:443: UserWarning: X has feature names, but MultinomialNB was fitted without feature names\n",
      "  warnings.warn(\n"
     ]
    }
   ],
   "source": [
    "\n",
    "clf = GaussianNB()\n",
    "clf.fit(X_normalized,y_train)\n",
    "prediction = clf.predict(X_test)\n",
    "print(accuracy_score(y_test, prediction))\n",
    "print(precision_score(y_test, prediction, average='macro'))   \n",
    "f1score(prediction)"
   ]
  },
  {
   "cell_type": "code",
   "execution_count": 170,
   "id": "bfba1974",
   "metadata": {},
   "outputs": [
    {
     "name": "stdout",
     "output_type": "stream",
     "text": [
      "0.7025\n",
      "0.6592871607296419\n",
      "TruePositive: 581 FalseNegative: 7 FalsePositive: 81 TrueNegative: 140\n",
      "precision : 0.877643504531722\n",
      "recall: 0.9880952380952381\n",
      "TruePositive: 581 FalseNegative: 7 FalsePositive: 81 TrueNegative: 140\n",
      "f1-score: 0.9296\n"
     ]
    }
   ],
   "source": [
    "clf = SVC(kernel='linear',C=1.9, gamma='auto')\n",
    "clf.fit(X_train,y_train)\n",
    "prediction = clf.predict(X_test)\n",
    "print(accuracy_score(y_test, prediction))\n",
    "print(precision_score(y_test, prediction, average='macro'))        \n",
    "f1score(prediction)"
   ]
  },
  {
   "cell_type": "code",
   "execution_count": 171,
   "id": "70cbbc2c",
   "metadata": {},
   "outputs": [
    {
     "name": "stdout",
     "output_type": "stream",
     "text": [
      "0.8975\n",
      "0.8792675251322831\n",
      "TruePositive: 562 FalseNegative: 14 FalsePositive: 10 TrueNegative: 245\n",
      "precision : 0.9825174825174825\n",
      "recall: 0.9756944444444444\n",
      "TruePositive: 562 FalseNegative: 14 FalsePositive: 10 TrueNegative: 245\n",
      "f1-score: 0.9790940766550522\n"
     ]
    }
   ],
   "source": [
    "clf = DecisionTreeClassifier()\n",
    "clf.fit(X_train,y_train)\n",
    "prediction = clf.predict(X_test)\n",
    "print(accuracy_score(y_test, prediction))\n",
    "print(precision_score(y_test, prediction, average='macro'))  \n",
    "f1score(prediction)\n"
   ]
  },
  {
   "cell_type": "code",
   "execution_count": 201,
   "id": "77401ce1",
   "metadata": {},
   "outputs": [
    {
     "name": "stdout",
     "output_type": "stream",
     "text": [
      "0.9875\n",
      "0.9875416459421082\n",
      "TruePositive: 583 FalseNegative: 9 FalsePositive: 6 TrueNegative: 602\n",
      "precision : 0.9898132427843803\n",
      "recall: 0.9847972972972973\n",
      "TruePositive: 583 FalseNegative: 9 FalsePositive: 6 TrueNegative: 602\n",
      "f1-score: 0.9872988992379339\n"
     ]
    }
   ],
   "source": [
    "# 3000 , 0's\n",
    "# 1500 , 1's\n",
    "# 1500 , 2's\n",
    "# class_weight={0:1,1:4,2:4} but doesn't help accuracy\n",
    "clf = RandomForestClassifier()\n",
    "clf.fit(X_train,y_train)\n",
    "prediction = clf.predict(X_test)\n",
    "print(accuracy_score(y_test, prediction))\n",
    "print(precision_score(y_test, prediction, average='macro'))    \n",
    "f1score(prediction)\n",
    "# No point skewing the classes due to them being the same"
   ]
  },
  {
   "cell_type": "code",
   "execution_count": 173,
   "id": "3be3fc1e",
   "metadata": {},
   "outputs": [
    {
     "name": "stdout",
     "output_type": "stream",
     "text": [
      "[2 2 2 2 2 1 1 2 2 2 1 1 1 1 1 2 1 1 1 1 1 2 2 2 2 2 2 2 2 2 2 2 1 1 1 1 1\n",
      " 2 1 1 2 2 2 2 2 2 2 2 1 2 2 2 1 2 2 2 1 1 1 1 1 1 1 1 1 0 0 0 0 0 0 0 0 0\n",
      " 0 0 0 0 0 0 0 0 0 1 1 1 1 1 1 1 0 0 0 0 0 0 0 0 0]\n"
     ]
    },
    {
     "name": "stderr",
     "output_type": "stream",
     "text": [
      "C:\\Users\\willi\\miniconda3\\lib\\site-packages\\sklearn\\base.py:493: FutureWarning: The feature names should match those that were passed during fit. Starting version 1.2, an error will be raised.\n",
      "Feature names unseen at fit time:\n",
      "- -0.18182\n",
      "- -0.20197\n",
      "- -100.061349\n",
      "- -100.072809\n",
      "- -100.124375\n",
      "- ...\n",
      "Feature names seen at fit time, yet now missing:\n",
      "- -100.86922\n",
      "- -102.060972\n",
      "- -119.550481\n",
      "- -119.753909\n",
      "- -120.341499\n",
      "- ...\n",
      "\n",
      "  warnings.warn(message, FutureWarning)\n"
     ]
    }
   ],
   "source": [
    "#Producing the ouput file\n",
    "prediction = clf.predict(test_Data)\n",
    "print(prediction)"
   ]
  },
  {
   "cell_type": "code",
   "execution_count": null,
   "id": "c4bd39d2",
   "metadata": {},
   "outputs": [],
   "source": [
    "testing_data = np.genfromtxt(\"TestingDataMulti.csv\", delimiter=',')\n",
    "test_Data = testing_data[:,:128]\n",
    "with open(\"TestingResultsMulti.csv\",\"w\") as f:\n",
    "    i = 0\n",
    "    temp = \"\"\n",
    "    for result in prediction:\n",
    "        p_list = (test_Data[i]).tolist()\n",
    "        p_list.append(int(result))\n",
    "        string = \"\\n\"\n",
    "        string = str(p_list) + string\n",
    "        string = string.replace(\"]\", \"\")\n",
    "        string = string.replace(\"[\",\"\")\n",
    "        f.write(string)\n",
    "        i = i + 1"
   ]
  }
 ],
 "metadata": {
  "kernelspec": {
   "display_name": "Python 3 (ipykernel)",
   "language": "python",
   "name": "python3"
  },
  "language_info": {
   "codemirror_mode": {
    "name": "ipython",
    "version": 3
   },
   "file_extension": ".py",
   "mimetype": "text/x-python",
   "name": "python",
   "nbconvert_exporter": "python",
   "pygments_lexer": "ipython3",
   "version": "3.9.12"
  }
 },
 "nbformat": 4,
 "nbformat_minor": 5
}
